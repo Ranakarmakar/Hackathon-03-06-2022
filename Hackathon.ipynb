{
 "cells": [
  {
   "cell_type": "code",
   "execution_count": 334,
   "id": "64bbcd8f",
   "metadata": {
    "scrolled": true
   },
   "outputs": [],
   "source": [
    "import pandas as pd\n",
    "import numpy as np\n",
    "import matplotlib.pyplot as plt\n",
    "import seaborn as sns\n",
    "from sklearn import preprocessing\n",
    "from sklearn.preprocessing import LabelEncoder\n",
    "from pandas.plotting import scatter_matrix\n",
    "from sklearn.linear_model import LogisticRegression\n",
    "from sklearn.model_selection import train_test_split\n",
    "from sklearn.preprocessing import StandardScaler\n",
    "from sklearn.metrics import accuracy_score\n",
    "from sklearn import metrics\n",
    "from sklearn.metrics import r2_score\n",
    "from sklearn.metrics import mean_squared_error\n",
    "from sklearn.tree import DecisionTreeClassifier\n",
    "from sklearn.neighbors import KNeighborsClassifier\n",
    "from sklearn.metrics import classification_report, confusion_matrix\n",
    "from sklearn.metrics import mean_absolute_error\n",
    "from sklearn.metrics import mean_squared_error\n",
    "from sklearn.ensemble import RandomForestClassifier\n",
    "from sklearn.discriminant_analysis import LinearDiscriminantAnalysis\n",
    "from sklearn.naive_bayes import GaussianNB\n",
    "from sklearn.svm import SVC\n",
    "import pickle\n",
    "import xgboost as xg"
   ]
  },
  {
   "cell_type": "code",
   "execution_count": 335,
   "id": "b9c1ae4e",
   "metadata": {},
   "outputs": [],
   "source": [
    "df = pd.read_csv(\"train_wn75k28.csv\")\n",
    "test_df = pd.read_csv(\"test_Wf7sxXF.csv\")\n"
   ]
  },
  {
   "cell_type": "code",
   "execution_count": 336,
   "id": "52c89c3f",
   "metadata": {
    "scrolled": true
   },
   "outputs": [
    {
     "data": {
      "text/html": [
       "<div>\n",
       "<style scoped>\n",
       "    .dataframe tbody tr th:only-of-type {\n",
       "        vertical-align: middle;\n",
       "    }\n",
       "\n",
       "    .dataframe tbody tr th {\n",
       "        vertical-align: top;\n",
       "    }\n",
       "\n",
       "    .dataframe thead th {\n",
       "        text-align: right;\n",
       "    }\n",
       "</style>\n",
       "<table border=\"1\" class=\"dataframe\">\n",
       "  <thead>\n",
       "    <tr style=\"text-align: right;\">\n",
       "      <th></th>\n",
       "      <th>id</th>\n",
       "      <th>created_at</th>\n",
       "      <th>campaign_var_1</th>\n",
       "      <th>campaign_var_2</th>\n",
       "      <th>products_purchased</th>\n",
       "      <th>signup_date</th>\n",
       "      <th>user_activity_var_1</th>\n",
       "      <th>user_activity_var_2</th>\n",
       "      <th>user_activity_var_3</th>\n",
       "      <th>user_activity_var_4</th>\n",
       "      <th>user_activity_var_5</th>\n",
       "      <th>user_activity_var_6</th>\n",
       "      <th>user_activity_var_7</th>\n",
       "      <th>user_activity_var_8</th>\n",
       "      <th>user_activity_var_9</th>\n",
       "      <th>user_activity_var_10</th>\n",
       "      <th>user_activity_var_11</th>\n",
       "      <th>user_activity_var_12</th>\n",
       "      <th>buy</th>\n",
       "    </tr>\n",
       "  </thead>\n",
       "  <tbody>\n",
       "    <tr>\n",
       "      <th>0</th>\n",
       "      <td>1</td>\n",
       "      <td>2021-01-01</td>\n",
       "      <td>1</td>\n",
       "      <td>2</td>\n",
       "      <td>2.0</td>\n",
       "      <td>2020-09-24</td>\n",
       "      <td>0</td>\n",
       "      <td>0</td>\n",
       "      <td>0</td>\n",
       "      <td>0</td>\n",
       "      <td>0</td>\n",
       "      <td>0</td>\n",
       "      <td>1</td>\n",
       "      <td>1</td>\n",
       "      <td>0</td>\n",
       "      <td>0</td>\n",
       "      <td>0</td>\n",
       "      <td>0</td>\n",
       "      <td>0</td>\n",
       "    </tr>\n",
       "    <tr>\n",
       "      <th>1</th>\n",
       "      <td>2</td>\n",
       "      <td>2021-01-01</td>\n",
       "      <td>2</td>\n",
       "      <td>1</td>\n",
       "      <td>2.0</td>\n",
       "      <td>2020-09-19</td>\n",
       "      <td>1</td>\n",
       "      <td>0</td>\n",
       "      <td>1</td>\n",
       "      <td>0</td>\n",
       "      <td>0</td>\n",
       "      <td>0</td>\n",
       "      <td>1</td>\n",
       "      <td>0</td>\n",
       "      <td>0</td>\n",
       "      <td>0</td>\n",
       "      <td>0</td>\n",
       "      <td>0</td>\n",
       "      <td>0</td>\n",
       "    </tr>\n",
       "    <tr>\n",
       "      <th>2</th>\n",
       "      <td>3</td>\n",
       "      <td>2021-01-01</td>\n",
       "      <td>9</td>\n",
       "      <td>3</td>\n",
       "      <td>3.0</td>\n",
       "      <td>2021-08-11</td>\n",
       "      <td>1</td>\n",
       "      <td>0</td>\n",
       "      <td>0</td>\n",
       "      <td>0</td>\n",
       "      <td>0</td>\n",
       "      <td>0</td>\n",
       "      <td>0</td>\n",
       "      <td>0</td>\n",
       "      <td>0</td>\n",
       "      <td>0</td>\n",
       "      <td>0</td>\n",
       "      <td>0</td>\n",
       "      <td>0</td>\n",
       "    </tr>\n",
       "    <tr>\n",
       "      <th>3</th>\n",
       "      <td>4</td>\n",
       "      <td>2021-01-01</td>\n",
       "      <td>6</td>\n",
       "      <td>7</td>\n",
       "      <td>2.0</td>\n",
       "      <td>2017-10-04</td>\n",
       "      <td>0</td>\n",
       "      <td>0</td>\n",
       "      <td>0</td>\n",
       "      <td>0</td>\n",
       "      <td>0</td>\n",
       "      <td>0</td>\n",
       "      <td>0</td>\n",
       "      <td>0</td>\n",
       "      <td>0</td>\n",
       "      <td>0</td>\n",
       "      <td>0</td>\n",
       "      <td>0</td>\n",
       "      <td>0</td>\n",
       "    </tr>\n",
       "    <tr>\n",
       "      <th>4</th>\n",
       "      <td>5</td>\n",
       "      <td>2021-01-01</td>\n",
       "      <td>4</td>\n",
       "      <td>6</td>\n",
       "      <td>NaN</td>\n",
       "      <td>2020-06-08</td>\n",
       "      <td>0</td>\n",
       "      <td>0</td>\n",
       "      <td>0</td>\n",
       "      <td>0</td>\n",
       "      <td>0</td>\n",
       "      <td>0</td>\n",
       "      <td>1</td>\n",
       "      <td>0</td>\n",
       "      <td>0</td>\n",
       "      <td>0</td>\n",
       "      <td>1</td>\n",
       "      <td>0</td>\n",
       "      <td>0</td>\n",
       "    </tr>\n",
       "  </tbody>\n",
       "</table>\n",
       "</div>"
      ],
      "text/plain": [
       "   id  created_at  campaign_var_1  campaign_var_2  products_purchased  \\\n",
       "0   1  2021-01-01               1               2                 2.0   \n",
       "1   2  2021-01-01               2               1                 2.0   \n",
       "2   3  2021-01-01               9               3                 3.0   \n",
       "3   4  2021-01-01               6               7                 2.0   \n",
       "4   5  2021-01-01               4               6                 NaN   \n",
       "\n",
       "  signup_date  user_activity_var_1  user_activity_var_2  user_activity_var_3  \\\n",
       "0  2020-09-24                    0                    0                    0   \n",
       "1  2020-09-19                    1                    0                    1   \n",
       "2  2021-08-11                    1                    0                    0   \n",
       "3  2017-10-04                    0                    0                    0   \n",
       "4  2020-06-08                    0                    0                    0   \n",
       "\n",
       "   user_activity_var_4  user_activity_var_5  user_activity_var_6  \\\n",
       "0                    0                    0                    0   \n",
       "1                    0                    0                    0   \n",
       "2                    0                    0                    0   \n",
       "3                    0                    0                    0   \n",
       "4                    0                    0                    0   \n",
       "\n",
       "   user_activity_var_7  user_activity_var_8  user_activity_var_9  \\\n",
       "0                    1                    1                    0   \n",
       "1                    1                    0                    0   \n",
       "2                    0                    0                    0   \n",
       "3                    0                    0                    0   \n",
       "4                    1                    0                    0   \n",
       "\n",
       "   user_activity_var_10  user_activity_var_11  user_activity_var_12  buy  \n",
       "0                     0                     0                     0    0  \n",
       "1                     0                     0                     0    0  \n",
       "2                     0                     0                     0    0  \n",
       "3                     0                     0                     0    0  \n",
       "4                     0                     1                     0    0  "
      ]
     },
     "execution_count": 336,
     "metadata": {},
     "output_type": "execute_result"
    }
   ],
   "source": [
    "df.head()"
   ]
  },
  {
   "cell_type": "markdown",
   "id": "50ea64d9",
   "metadata": {},
   "source": [
    "# Statistical view"
   ]
  },
  {
   "cell_type": "code",
   "execution_count": 337,
   "id": "dd8bf96a",
   "metadata": {},
   "outputs": [
    {
     "data": {
      "text/plain": [
       "(39161, 19)"
      ]
     },
     "execution_count": 337,
     "metadata": {},
     "output_type": "execute_result"
    }
   ],
   "source": [
    "df.shape"
   ]
  },
  {
   "cell_type": "code",
   "execution_count": 338,
   "id": "6bef561e",
   "metadata": {
    "scrolled": true
   },
   "outputs": [
    {
     "data": {
      "text/plain": [
       "Index(['id', 'created_at', 'campaign_var_1', 'campaign_var_2',\n",
       "       'products_purchased', 'signup_date', 'user_activity_var_1',\n",
       "       'user_activity_var_2', 'user_activity_var_3', 'user_activity_var_4',\n",
       "       'user_activity_var_5', 'user_activity_var_6', 'user_activity_var_7',\n",
       "       'user_activity_var_8', 'user_activity_var_9', 'user_activity_var_10',\n",
       "       'user_activity_var_11', 'user_activity_var_12', 'buy'],\n",
       "      dtype='object')"
      ]
     },
     "execution_count": 338,
     "metadata": {},
     "output_type": "execute_result"
    }
   ],
   "source": [
    "df.columns"
   ]
  },
  {
   "cell_type": "code",
   "execution_count": 339,
   "id": "5cc49ba6",
   "metadata": {},
   "outputs": [
    {
     "data": {
      "text/plain": [
       "id                      39161\n",
       "created_at                365\n",
       "campaign_var_1             16\n",
       "campaign_var_2             15\n",
       "products_purchased          4\n",
       "signup_date              1800\n",
       "user_activity_var_1         4\n",
       "user_activity_var_2         2\n",
       "user_activity_var_3         2\n",
       "user_activity_var_4         2\n",
       "user_activity_var_5         3\n",
       "user_activity_var_6         4\n",
       "user_activity_var_7         3\n",
       "user_activity_var_8         3\n",
       "user_activity_var_9         2\n",
       "user_activity_var_10        2\n",
       "user_activity_var_11        5\n",
       "user_activity_var_12        2\n",
       "buy                         2\n",
       "dtype: int64"
      ]
     },
     "execution_count": 339,
     "metadata": {},
     "output_type": "execute_result"
    }
   ],
   "source": [
    "df.nunique()"
   ]
  },
  {
   "cell_type": "code",
   "execution_count": 340,
   "id": "8ca7f9e9",
   "metadata": {},
   "outputs": [
    {
     "data": {
      "text/plain": [
       "id                          0\n",
       "created_at                  0\n",
       "campaign_var_1              0\n",
       "campaign_var_2              0\n",
       "products_purchased      20911\n",
       "signup_date             15113\n",
       "user_activity_var_1         0\n",
       "user_activity_var_2         0\n",
       "user_activity_var_3         0\n",
       "user_activity_var_4         0\n",
       "user_activity_var_5         0\n",
       "user_activity_var_6         0\n",
       "user_activity_var_7         0\n",
       "user_activity_var_8         0\n",
       "user_activity_var_9         0\n",
       "user_activity_var_10        0\n",
       "user_activity_var_11        0\n",
       "user_activity_var_12        0\n",
       "buy                         0\n",
       "dtype: int64"
      ]
     },
     "execution_count": 340,
     "metadata": {},
     "output_type": "execute_result"
    }
   ],
   "source": [
    "df.isnull().sum()"
   ]
  },
  {
   "cell_type": "code",
   "execution_count": 341,
   "id": "372cbeeb",
   "metadata": {},
   "outputs": [
    {
     "data": {
      "text/html": [
       "<div>\n",
       "<style scoped>\n",
       "    .dataframe tbody tr th:only-of-type {\n",
       "        vertical-align: middle;\n",
       "    }\n",
       "\n",
       "    .dataframe tbody tr th {\n",
       "        vertical-align: top;\n",
       "    }\n",
       "\n",
       "    .dataframe thead th {\n",
       "        text-align: right;\n",
       "    }\n",
       "</style>\n",
       "<table border=\"1\" class=\"dataframe\">\n",
       "  <thead>\n",
       "    <tr style=\"text-align: right;\">\n",
       "      <th></th>\n",
       "      <th>id</th>\n",
       "      <th>campaign_var_1</th>\n",
       "      <th>campaign_var_2</th>\n",
       "      <th>products_purchased</th>\n",
       "      <th>user_activity_var_1</th>\n",
       "      <th>user_activity_var_2</th>\n",
       "      <th>user_activity_var_3</th>\n",
       "      <th>user_activity_var_4</th>\n",
       "      <th>user_activity_var_5</th>\n",
       "      <th>user_activity_var_6</th>\n",
       "      <th>user_activity_var_7</th>\n",
       "      <th>user_activity_var_8</th>\n",
       "      <th>user_activity_var_9</th>\n",
       "      <th>user_activity_var_10</th>\n",
       "      <th>user_activity_var_11</th>\n",
       "      <th>user_activity_var_12</th>\n",
       "      <th>buy</th>\n",
       "    </tr>\n",
       "  </thead>\n",
       "  <tbody>\n",
       "    <tr>\n",
       "      <th>count</th>\n",
       "      <td>39161.000000</td>\n",
       "      <td>39161.000000</td>\n",
       "      <td>39161.000000</td>\n",
       "      <td>18250.000000</td>\n",
       "      <td>39161.000000</td>\n",
       "      <td>39161.000000</td>\n",
       "      <td>39161.000000</td>\n",
       "      <td>39161.000000</td>\n",
       "      <td>39161.000000</td>\n",
       "      <td>39161.000000</td>\n",
       "      <td>39161.000000</td>\n",
       "      <td>39161.000000</td>\n",
       "      <td>39161.000000</td>\n",
       "      <td>39161.000000</td>\n",
       "      <td>39161.000000</td>\n",
       "      <td>39161.000000</td>\n",
       "      <td>39161.000000</td>\n",
       "    </tr>\n",
       "    <tr>\n",
       "      <th>mean</th>\n",
       "      <td>19581.000000</td>\n",
       "      <td>6.523812</td>\n",
       "      <td>6.452746</td>\n",
       "      <td>2.154137</td>\n",
       "      <td>0.400092</td>\n",
       "      <td>0.006716</td>\n",
       "      <td>0.102832</td>\n",
       "      <td>0.011465</td>\n",
       "      <td>0.151503</td>\n",
       "      <td>0.499834</td>\n",
       "      <td>0.286612</td>\n",
       "      <td>0.174434</td>\n",
       "      <td>0.011440</td>\n",
       "      <td>0.000383</td>\n",
       "      <td>0.218942</td>\n",
       "      <td>0.000562</td>\n",
       "      <td>0.051020</td>\n",
       "    </tr>\n",
       "    <tr>\n",
       "      <th>std</th>\n",
       "      <td>11304.951283</td>\n",
       "      <td>3.472944</td>\n",
       "      <td>2.614296</td>\n",
       "      <td>0.779815</td>\n",
       "      <td>0.509194</td>\n",
       "      <td>0.081676</td>\n",
       "      <td>0.303743</td>\n",
       "      <td>0.106463</td>\n",
       "      <td>0.359681</td>\n",
       "      <td>0.558166</td>\n",
       "      <td>0.455784</td>\n",
       "      <td>0.379689</td>\n",
       "      <td>0.106346</td>\n",
       "      <td>0.019568</td>\n",
       "      <td>0.431544</td>\n",
       "      <td>0.023696</td>\n",
       "      <td>0.220042</td>\n",
       "    </tr>\n",
       "    <tr>\n",
       "      <th>min</th>\n",
       "      <td>1.000000</td>\n",
       "      <td>1.000000</td>\n",
       "      <td>1.000000</td>\n",
       "      <td>1.000000</td>\n",
       "      <td>0.000000</td>\n",
       "      <td>0.000000</td>\n",
       "      <td>0.000000</td>\n",
       "      <td>0.000000</td>\n",
       "      <td>0.000000</td>\n",
       "      <td>0.000000</td>\n",
       "      <td>0.000000</td>\n",
       "      <td>0.000000</td>\n",
       "      <td>0.000000</td>\n",
       "      <td>0.000000</td>\n",
       "      <td>0.000000</td>\n",
       "      <td>0.000000</td>\n",
       "      <td>0.000000</td>\n",
       "    </tr>\n",
       "    <tr>\n",
       "      <th>25%</th>\n",
       "      <td>9791.000000</td>\n",
       "      <td>4.000000</td>\n",
       "      <td>5.000000</td>\n",
       "      <td>2.000000</td>\n",
       "      <td>0.000000</td>\n",
       "      <td>0.000000</td>\n",
       "      <td>0.000000</td>\n",
       "      <td>0.000000</td>\n",
       "      <td>0.000000</td>\n",
       "      <td>0.000000</td>\n",
       "      <td>0.000000</td>\n",
       "      <td>0.000000</td>\n",
       "      <td>0.000000</td>\n",
       "      <td>0.000000</td>\n",
       "      <td>0.000000</td>\n",
       "      <td>0.000000</td>\n",
       "      <td>0.000000</td>\n",
       "    </tr>\n",
       "    <tr>\n",
       "      <th>50%</th>\n",
       "      <td>19581.000000</td>\n",
       "      <td>6.000000</td>\n",
       "      <td>6.000000</td>\n",
       "      <td>2.000000</td>\n",
       "      <td>0.000000</td>\n",
       "      <td>0.000000</td>\n",
       "      <td>0.000000</td>\n",
       "      <td>0.000000</td>\n",
       "      <td>0.000000</td>\n",
       "      <td>0.000000</td>\n",
       "      <td>0.000000</td>\n",
       "      <td>0.000000</td>\n",
       "      <td>0.000000</td>\n",
       "      <td>0.000000</td>\n",
       "      <td>0.000000</td>\n",
       "      <td>0.000000</td>\n",
       "      <td>0.000000</td>\n",
       "    </tr>\n",
       "    <tr>\n",
       "      <th>75%</th>\n",
       "      <td>29371.000000</td>\n",
       "      <td>9.000000</td>\n",
       "      <td>8.000000</td>\n",
       "      <td>3.000000</td>\n",
       "      <td>1.000000</td>\n",
       "      <td>0.000000</td>\n",
       "      <td>0.000000</td>\n",
       "      <td>0.000000</td>\n",
       "      <td>0.000000</td>\n",
       "      <td>1.000000</td>\n",
       "      <td>1.000000</td>\n",
       "      <td>0.000000</td>\n",
       "      <td>0.000000</td>\n",
       "      <td>0.000000</td>\n",
       "      <td>0.000000</td>\n",
       "      <td>0.000000</td>\n",
       "      <td>0.000000</td>\n",
       "    </tr>\n",
       "    <tr>\n",
       "      <th>max</th>\n",
       "      <td>39161.000000</td>\n",
       "      <td>16.000000</td>\n",
       "      <td>15.000000</td>\n",
       "      <td>4.000000</td>\n",
       "      <td>3.000000</td>\n",
       "      <td>1.000000</td>\n",
       "      <td>1.000000</td>\n",
       "      <td>1.000000</td>\n",
       "      <td>2.000000</td>\n",
       "      <td>3.000000</td>\n",
       "      <td>2.000000</td>\n",
       "      <td>2.000000</td>\n",
       "      <td>1.000000</td>\n",
       "      <td>1.000000</td>\n",
       "      <td>4.000000</td>\n",
       "      <td>1.000000</td>\n",
       "      <td>1.000000</td>\n",
       "    </tr>\n",
       "  </tbody>\n",
       "</table>\n",
       "</div>"
      ],
      "text/plain": [
       "                 id  campaign_var_1  campaign_var_2  products_purchased  \\\n",
       "count  39161.000000    39161.000000    39161.000000        18250.000000   \n",
       "mean   19581.000000        6.523812        6.452746            2.154137   \n",
       "std    11304.951283        3.472944        2.614296            0.779815   \n",
       "min        1.000000        1.000000        1.000000            1.000000   \n",
       "25%     9791.000000        4.000000        5.000000            2.000000   \n",
       "50%    19581.000000        6.000000        6.000000            2.000000   \n",
       "75%    29371.000000        9.000000        8.000000            3.000000   \n",
       "max    39161.000000       16.000000       15.000000            4.000000   \n",
       "\n",
       "       user_activity_var_1  user_activity_var_2  user_activity_var_3  \\\n",
       "count         39161.000000         39161.000000         39161.000000   \n",
       "mean              0.400092             0.006716             0.102832   \n",
       "std               0.509194             0.081676             0.303743   \n",
       "min               0.000000             0.000000             0.000000   \n",
       "25%               0.000000             0.000000             0.000000   \n",
       "50%               0.000000             0.000000             0.000000   \n",
       "75%               1.000000             0.000000             0.000000   \n",
       "max               3.000000             1.000000             1.000000   \n",
       "\n",
       "       user_activity_var_4  user_activity_var_5  user_activity_var_6  \\\n",
       "count         39161.000000         39161.000000         39161.000000   \n",
       "mean              0.011465             0.151503             0.499834   \n",
       "std               0.106463             0.359681             0.558166   \n",
       "min               0.000000             0.000000             0.000000   \n",
       "25%               0.000000             0.000000             0.000000   \n",
       "50%               0.000000             0.000000             0.000000   \n",
       "75%               0.000000             0.000000             1.000000   \n",
       "max               1.000000             2.000000             3.000000   \n",
       "\n",
       "       user_activity_var_7  user_activity_var_8  user_activity_var_9  \\\n",
       "count         39161.000000         39161.000000         39161.000000   \n",
       "mean              0.286612             0.174434             0.011440   \n",
       "std               0.455784             0.379689             0.106346   \n",
       "min               0.000000             0.000000             0.000000   \n",
       "25%               0.000000             0.000000             0.000000   \n",
       "50%               0.000000             0.000000             0.000000   \n",
       "75%               1.000000             0.000000             0.000000   \n",
       "max               2.000000             2.000000             1.000000   \n",
       "\n",
       "       user_activity_var_10  user_activity_var_11  user_activity_var_12  \\\n",
       "count          39161.000000          39161.000000          39161.000000   \n",
       "mean               0.000383              0.218942              0.000562   \n",
       "std                0.019568              0.431544              0.023696   \n",
       "min                0.000000              0.000000              0.000000   \n",
       "25%                0.000000              0.000000              0.000000   \n",
       "50%                0.000000              0.000000              0.000000   \n",
       "75%                0.000000              0.000000              0.000000   \n",
       "max                1.000000              4.000000              1.000000   \n",
       "\n",
       "                buy  \n",
       "count  39161.000000  \n",
       "mean       0.051020  \n",
       "std        0.220042  \n",
       "min        0.000000  \n",
       "25%        0.000000  \n",
       "50%        0.000000  \n",
       "75%        0.000000  \n",
       "max        1.000000  "
      ]
     },
     "execution_count": 341,
     "metadata": {},
     "output_type": "execute_result"
    }
   ],
   "source": [
    "df.describe()"
   ]
  },
  {
   "cell_type": "code",
   "execution_count": 342,
   "id": "5b0439fe",
   "metadata": {},
   "outputs": [
    {
     "data": {
      "text/html": [
       "<div>\n",
       "<style scoped>\n",
       "    .dataframe tbody tr th:only-of-type {\n",
       "        vertical-align: middle;\n",
       "    }\n",
       "\n",
       "    .dataframe tbody tr th {\n",
       "        vertical-align: top;\n",
       "    }\n",
       "\n",
       "    .dataframe thead th {\n",
       "        text-align: right;\n",
       "    }\n",
       "</style>\n",
       "<table border=\"1\" class=\"dataframe\">\n",
       "  <thead>\n",
       "    <tr style=\"text-align: right;\">\n",
       "      <th></th>\n",
       "      <th>created_at</th>\n",
       "      <th>signup_date</th>\n",
       "    </tr>\n",
       "  </thead>\n",
       "  <tbody>\n",
       "    <tr>\n",
       "      <th>count</th>\n",
       "      <td>39161</td>\n",
       "      <td>24048</td>\n",
       "    </tr>\n",
       "    <tr>\n",
       "      <th>unique</th>\n",
       "      <td>365</td>\n",
       "      <td>1800</td>\n",
       "    </tr>\n",
       "    <tr>\n",
       "      <th>top</th>\n",
       "      <td>2021-12-26</td>\n",
       "      <td>2021-07-18</td>\n",
       "    </tr>\n",
       "    <tr>\n",
       "      <th>freq</th>\n",
       "      <td>181</td>\n",
       "      <td>45</td>\n",
       "    </tr>\n",
       "  </tbody>\n",
       "</table>\n",
       "</div>"
      ],
      "text/plain": [
       "        created_at signup_date\n",
       "count        39161       24048\n",
       "unique         365        1800\n",
       "top     2021-12-26  2021-07-18\n",
       "freq           181          45"
      ]
     },
     "execution_count": 342,
     "metadata": {},
     "output_type": "execute_result"
    }
   ],
   "source": [
    "df.describe(include='object')"
   ]
  },
  {
   "cell_type": "code",
   "execution_count": 343,
   "id": "8ed5efb2",
   "metadata": {
    "scrolled": true
   },
   "outputs": [
    {
     "name": "stdout",
     "output_type": "stream",
     "text": [
      "<class 'pandas.core.frame.DataFrame'>\n",
      "RangeIndex: 39161 entries, 0 to 39160\n",
      "Data columns (total 19 columns):\n",
      " #   Column                Non-Null Count  Dtype  \n",
      "---  ------                --------------  -----  \n",
      " 0   id                    39161 non-null  int64  \n",
      " 1   created_at            39161 non-null  object \n",
      " 2   campaign_var_1        39161 non-null  int64  \n",
      " 3   campaign_var_2        39161 non-null  int64  \n",
      " 4   products_purchased    18250 non-null  float64\n",
      " 5   signup_date           24048 non-null  object \n",
      " 6   user_activity_var_1   39161 non-null  int64  \n",
      " 7   user_activity_var_2   39161 non-null  int64  \n",
      " 8   user_activity_var_3   39161 non-null  int64  \n",
      " 9   user_activity_var_4   39161 non-null  int64  \n",
      " 10  user_activity_var_5   39161 non-null  int64  \n",
      " 11  user_activity_var_6   39161 non-null  int64  \n",
      " 12  user_activity_var_7   39161 non-null  int64  \n",
      " 13  user_activity_var_8   39161 non-null  int64  \n",
      " 14  user_activity_var_9   39161 non-null  int64  \n",
      " 15  user_activity_var_10  39161 non-null  int64  \n",
      " 16  user_activity_var_11  39161 non-null  int64  \n",
      " 17  user_activity_var_12  39161 non-null  int64  \n",
      " 18  buy                   39161 non-null  int64  \n",
      "dtypes: float64(1), int64(16), object(2)\n",
      "memory usage: 5.7+ MB\n"
     ]
    }
   ],
   "source": [
    "train_data.info()"
   ]
  },
  {
   "cell_type": "markdown",
   "id": "3c6d4d61",
   "metadata": {},
   "source": [
    "# Data Preprocessing"
   ]
  },
  {
   "cell_type": "code",
   "execution_count": 344,
   "id": "a05e87b4",
   "metadata": {
    "scrolled": false
   },
   "outputs": [
    {
     "data": {
      "text/plain": [
       "<AxesSubplot:>"
      ]
     },
     "execution_count": 344,
     "metadata": {},
     "output_type": "execute_result"
    },
    {
     "data": {
      "image/png": "[encoded data removed]",
      "text/plain": [
       "<Figure size 1008x504 with 1 Axes>"
      ]
     },
     "metadata": {
      "needs_background": "light"
     },
     "output_type": "display_data"
    }
   ],
   "source": [
    "plt.figure(figsize=(14, 7))\n",
    "sns.heatmap(df.isnull(),yticklabels=False,cbar=False,cmap=\"viridis\")"
   ]
  },
  {
   "cell_type": "code",
   "execution_count": 345,
   "id": "9a601232",
   "metadata": {
    "scrolled": false
   },
   "outputs": [
    {
     "data": {
      "text/plain": [
       "<AxesSubplot:>"
      ]
     },
     "execution_count": 345,
     "metadata": {},
     "output_type": "execute_result"
    },
    {
     "data": {
      "image/png": "[encoded data removed]",
      "text/plain": [
       "<Figure size 1008x504 with 1 Axes>"
      ]
     },
     "metadata": {
      "needs_background": "light"
     },
     "output_type": "display_data"
    }
   ],
   "source": [
    "# Remove columns products_purchased and signup_date\n",
    "df = df.drop(columns=\"products_purchased\")\n",
    "df = df.drop(columns=\"signup_date\")\n",
    "plt.figure(figsize=(14, 7))\n",
    "sns.heatmap(df.isnull(),yticklabels=False,cbar=False,cmap=\"viridis\")"
   ]
  },
  {
   "cell_type": "code",
   "execution_count": 346,
   "id": "7226086d",
   "metadata": {
    "scrolled": false
   },
   "outputs": [
    {
     "data": {
      "image/png": "[encoded data removed]",
      "text/plain": [
       "<Figure size 1008x504 with 1 Axes>"
      ]
     },
     "metadata": {
      "needs_background": "light"
     },
     "output_type": "display_data"
    }
   ],
   "source": [
    "plt.figure(figsize=(14, 7))\n",
    "sns.boxplot(data=df[['created_at', 'campaign_var_1', 'campaign_var_2',\n",
    "        'user_activity_var_1',\n",
    "       'user_activity_var_2', 'user_activity_var_3', 'user_activity_var_4',\n",
    "       'user_activity_var_5', 'user_activity_var_6', 'user_activity_var_7',\n",
    "       'user_activity_var_8', 'user_activity_var_9', 'user_activity_var_10',\n",
    "       'user_activity_var_11', 'user_activity_var_12', 'buy']])\n",
    "plt.show()"
   ]
  },
  {
   "cell_type": "code",
   "execution_count": 347,
   "id": "54033234",
   "metadata": {},
   "outputs": [
    {
     "data": {
      "text/plain": [
       "id                      39161\n",
       "created_at                365\n",
       "campaign_var_1             16\n",
       "campaign_var_2             15\n",
       "user_activity_var_1         4\n",
       "user_activity_var_2         2\n",
       "user_activity_var_3         2\n",
       "user_activity_var_4         2\n",
       "user_activity_var_5         3\n",
       "user_activity_var_6         4\n",
       "user_activity_var_7         3\n",
       "user_activity_var_8         3\n",
       "user_activity_var_9         2\n",
       "user_activity_var_10        2\n",
       "user_activity_var_11        5\n",
       "user_activity_var_12        2\n",
       "buy                         2\n",
       "dtype: int64"
      ]
     },
     "execution_count": 347,
     "metadata": {},
     "output_type": "execute_result"
    }
   ],
   "source": [
    "df.nunique()"
   ]
  },
  {
   "cell_type": "code",
   "execution_count": 348,
   "id": "a4445adc",
   "metadata": {},
   "outputs": [],
   "source": [
    "df['created_at']=pd.to_datetime(df['created_at'])"
   ]
  },
  {
   "cell_type": "code",
   "execution_count": 349,
   "id": "fe6cc6ab",
   "metadata": {},
   "outputs": [
    {
     "name": "stdout",
     "output_type": "stream",
     "text": [
      "<class 'pandas.core.frame.DataFrame'>\n",
      "RangeIndex: 39161 entries, 0 to 39160\n",
      "Data columns (total 17 columns):\n",
      " #   Column                Non-Null Count  Dtype         \n",
      "---  ------                --------------  -----         \n",
      " 0   id                    39161 non-null  int64         \n",
      " 1   created_at            39161 non-null  datetime64[ns]\n",
      " 2   campaign_var_1        39161 non-null  int64         \n",
      " 3   campaign_var_2        39161 non-null  int64         \n",
      " 4   user_activity_var_1   39161 non-null  int64         \n",
      " 5   user_activity_var_2   39161 non-null  int64         \n",
      " 6   user_activity_var_3   39161 non-null  int64         \n",
      " 7   user_activity_var_4   39161 non-null  int64         \n",
      " 8   user_activity_var_5   39161 non-null  int64         \n",
      " 9   user_activity_var_6   39161 non-null  int64         \n",
      " 10  user_activity_var_7   39161 non-null  int64         \n",
      " 11  user_activity_var_8   39161 non-null  int64         \n",
      " 12  user_activity_var_9   39161 non-null  int64         \n",
      " 13  user_activity_var_10  39161 non-null  int64         \n",
      " 14  user_activity_var_11  39161 non-null  int64         \n",
      " 15  user_activity_var_12  39161 non-null  int64         \n",
      " 16  buy                   39161 non-null  int64         \n",
      "dtypes: datetime64[ns](1), int64(16)\n",
      "memory usage: 5.1 MB\n"
     ]
    }
   ],
   "source": [
    "df.info()"
   ]
  },
  {
   "cell_type": "code",
   "execution_count": 350,
   "id": "fc38e930",
   "metadata": {},
   "outputs": [
    {
     "data": {
      "text/html": [
       "<div>\n",
       "<style scoped>\n",
       "    .dataframe tbody tr th:only-of-type {\n",
       "        vertical-align: middle;\n",
       "    }\n",
       "\n",
       "    .dataframe tbody tr th {\n",
       "        vertical-align: top;\n",
       "    }\n",
       "\n",
       "    .dataframe thead th {\n",
       "        text-align: right;\n",
       "    }\n",
       "</style>\n",
       "<table border=\"1\" class=\"dataframe\">\n",
       "  <thead>\n",
       "    <tr style=\"text-align: right;\">\n",
       "      <th></th>\n",
       "      <th>id</th>\n",
       "      <th>created_at</th>\n",
       "      <th>campaign_var_1</th>\n",
       "      <th>campaign_var_2</th>\n",
       "      <th>user_activity_var_1</th>\n",
       "      <th>user_activity_var_2</th>\n",
       "      <th>user_activity_var_3</th>\n",
       "      <th>user_activity_var_4</th>\n",
       "      <th>user_activity_var_5</th>\n",
       "      <th>user_activity_var_6</th>\n",
       "      <th>user_activity_var_7</th>\n",
       "      <th>user_activity_var_8</th>\n",
       "      <th>user_activity_var_9</th>\n",
       "      <th>user_activity_var_10</th>\n",
       "      <th>user_activity_var_11</th>\n",
       "      <th>user_activity_var_12</th>\n",
       "      <th>buy</th>\n",
       "      <th>created_at_year</th>\n",
       "    </tr>\n",
       "  </thead>\n",
       "  <tbody>\n",
       "    <tr>\n",
       "      <th>0</th>\n",
       "      <td>1</td>\n",
       "      <td>2021-01-01</td>\n",
       "      <td>1</td>\n",
       "      <td>2</td>\n",
       "      <td>0</td>\n",
       "      <td>0</td>\n",
       "      <td>0</td>\n",
       "      <td>0</td>\n",
       "      <td>0</td>\n",
       "      <td>0</td>\n",
       "      <td>1</td>\n",
       "      <td>1</td>\n",
       "      <td>0</td>\n",
       "      <td>0</td>\n",
       "      <td>0</td>\n",
       "      <td>0</td>\n",
       "      <td>0</td>\n",
       "      <td>2021</td>\n",
       "    </tr>\n",
       "    <tr>\n",
       "      <th>1</th>\n",
       "      <td>2</td>\n",
       "      <td>2021-01-01</td>\n",
       "      <td>2</td>\n",
       "      <td>1</td>\n",
       "      <td>1</td>\n",
       "      <td>0</td>\n",
       "      <td>1</td>\n",
       "      <td>0</td>\n",
       "      <td>0</td>\n",
       "      <td>0</td>\n",
       "      <td>1</td>\n",
       "      <td>0</td>\n",
       "      <td>0</td>\n",
       "      <td>0</td>\n",
       "      <td>0</td>\n",
       "      <td>0</td>\n",
       "      <td>0</td>\n",
       "      <td>2021</td>\n",
       "    </tr>\n",
       "    <tr>\n",
       "      <th>2</th>\n",
       "      <td>3</td>\n",
       "      <td>2021-01-01</td>\n",
       "      <td>9</td>\n",
       "      <td>3</td>\n",
       "      <td>1</td>\n",
       "      <td>0</td>\n",
       "      <td>0</td>\n",
       "      <td>0</td>\n",
       "      <td>0</td>\n",
       "      <td>0</td>\n",
       "      <td>0</td>\n",
       "      <td>0</td>\n",
       "      <td>0</td>\n",
       "      <td>0</td>\n",
       "      <td>0</td>\n",
       "      <td>0</td>\n",
       "      <td>0</td>\n",
       "      <td>2021</td>\n",
       "    </tr>\n",
       "    <tr>\n",
       "      <th>3</th>\n",
       "      <td>4</td>\n",
       "      <td>2021-01-01</td>\n",
       "      <td>6</td>\n",
       "      <td>7</td>\n",
       "      <td>0</td>\n",
       "      <td>0</td>\n",
       "      <td>0</td>\n",
       "      <td>0</td>\n",
       "      <td>0</td>\n",
       "      <td>0</td>\n",
       "      <td>0</td>\n",
       "      <td>0</td>\n",
       "      <td>0</td>\n",
       "      <td>0</td>\n",
       "      <td>0</td>\n",
       "      <td>0</td>\n",
       "      <td>0</td>\n",
       "      <td>2021</td>\n",
       "    </tr>\n",
       "    <tr>\n",
       "      <th>4</th>\n",
       "      <td>5</td>\n",
       "      <td>2021-01-01</td>\n",
       "      <td>4</td>\n",
       "      <td>6</td>\n",
       "      <td>0</td>\n",
       "      <td>0</td>\n",
       "      <td>0</td>\n",
       "      <td>0</td>\n",
       "      <td>0</td>\n",
       "      <td>0</td>\n",
       "      <td>1</td>\n",
       "      <td>0</td>\n",
       "      <td>0</td>\n",
       "      <td>0</td>\n",
       "      <td>1</td>\n",
       "      <td>0</td>\n",
       "      <td>0</td>\n",
       "      <td>2021</td>\n",
       "    </tr>\n",
       "  </tbody>\n",
       "</table>\n",
       "</div>"
      ],
      "text/plain": [
       "   id created_at  campaign_var_1  campaign_var_2  user_activity_var_1  \\\n",
       "0   1 2021-01-01               1               2                    0   \n",
       "1   2 2021-01-01               2               1                    1   \n",
       "2   3 2021-01-01               9               3                    1   \n",
       "3   4 2021-01-01               6               7                    0   \n",
       "4   5 2021-01-01               4               6                    0   \n",
       "\n",
       "   user_activity_var_2  user_activity_var_3  user_activity_var_4  \\\n",
       "0                    0                    0                    0   \n",
       "1                    0                    1                    0   \n",
       "2                    0                    0                    0   \n",
       "3                    0                    0                    0   \n",
       "4                    0                    0                    0   \n",
       "\n",
       "   user_activity_var_5  user_activity_var_6  user_activity_var_7  \\\n",
       "0                    0                    0                    1   \n",
       "1                    0                    0                    1   \n",
       "2                    0                    0                    0   \n",
       "3                    0                    0                    0   \n",
       "4                    0                    0                    1   \n",
       "\n",
       "   user_activity_var_8  user_activity_var_9  user_activity_var_10  \\\n",
       "0                    1                    0                     0   \n",
       "1                    0                    0                     0   \n",
       "2                    0                    0                     0   \n",
       "3                    0                    0                     0   \n",
       "4                    0                    0                     0   \n",
       "\n",
       "   user_activity_var_11  user_activity_var_12  buy  created_at_year  \n",
       "0                     0                     0    0             2021  \n",
       "1                     0                     0    0             2021  \n",
       "2                     0                     0    0             2021  \n",
       "3                     0                     0    0             2021  \n",
       "4                     1                     0    0             2021  "
      ]
     },
     "execution_count": 350,
     "metadata": {},
     "output_type": "execute_result"
    }
   ],
   "source": [
    "df['created_at_year'] = df['created_at'].dt.year\n",
    "df.head()"
   ]
  },
  {
   "cell_type": "code",
   "execution_count": 351,
   "id": "4eb4ceec",
   "metadata": {},
   "outputs": [],
   "source": [
    "df['created_at_month'] = df['created_at'].dt.month\n",
    "df['created_at_day'] = df['created_at'].dt.day"
   ]
  },
  {
   "cell_type": "code",
   "execution_count": 352,
   "id": "6a4a7a36",
   "metadata": {},
   "outputs": [
    {
     "data": {
      "text/html": [
       "<div>\n",
       "<style scoped>\n",
       "    .dataframe tbody tr th:only-of-type {\n",
       "        vertical-align: middle;\n",
       "    }\n",
       "\n",
       "    .dataframe tbody tr th {\n",
       "        vertical-align: top;\n",
       "    }\n",
       "\n",
       "    .dataframe thead th {\n",
       "        text-align: right;\n",
       "    }\n",
       "</style>\n",
       "<table border=\"1\" class=\"dataframe\">\n",
       "  <thead>\n",
       "    <tr style=\"text-align: right;\">\n",
       "      <th></th>\n",
       "      <th>id</th>\n",
       "      <th>campaign_var_1</th>\n",
       "      <th>campaign_var_2</th>\n",
       "      <th>user_activity_var_1</th>\n",
       "      <th>user_activity_var_2</th>\n",
       "      <th>user_activity_var_3</th>\n",
       "      <th>user_activity_var_4</th>\n",
       "      <th>user_activity_var_5</th>\n",
       "      <th>user_activity_var_6</th>\n",
       "      <th>user_activity_var_7</th>\n",
       "      <th>user_activity_var_8</th>\n",
       "      <th>user_activity_var_9</th>\n",
       "      <th>user_activity_var_10</th>\n",
       "      <th>user_activity_var_11</th>\n",
       "      <th>user_activity_var_12</th>\n",
       "      <th>buy</th>\n",
       "      <th>created_at_year</th>\n",
       "      <th>created_at_month</th>\n",
       "      <th>created_at_day</th>\n",
       "    </tr>\n",
       "  </thead>\n",
       "  <tbody>\n",
       "    <tr>\n",
       "      <th>0</th>\n",
       "      <td>1</td>\n",
       "      <td>1</td>\n",
       "      <td>2</td>\n",
       "      <td>0</td>\n",
       "      <td>0</td>\n",
       "      <td>0</td>\n",
       "      <td>0</td>\n",
       "      <td>0</td>\n",
       "      <td>0</td>\n",
       "      <td>1</td>\n",
       "      <td>1</td>\n",
       "      <td>0</td>\n",
       "      <td>0</td>\n",
       "      <td>0</td>\n",
       "      <td>0</td>\n",
       "      <td>0</td>\n",
       "      <td>2021</td>\n",
       "      <td>1</td>\n",
       "      <td>1</td>\n",
       "    </tr>\n",
       "    <tr>\n",
       "      <th>1</th>\n",
       "      <td>2</td>\n",
       "      <td>2</td>\n",
       "      <td>1</td>\n",
       "      <td>1</td>\n",
       "      <td>0</td>\n",
       "      <td>1</td>\n",
       "      <td>0</td>\n",
       "      <td>0</td>\n",
       "      <td>0</td>\n",
       "      <td>1</td>\n",
       "      <td>0</td>\n",
       "      <td>0</td>\n",
       "      <td>0</td>\n",
       "      <td>0</td>\n",
       "      <td>0</td>\n",
       "      <td>0</td>\n",
       "      <td>2021</td>\n",
       "      <td>1</td>\n",
       "      <td>1</td>\n",
       "    </tr>\n",
       "    <tr>\n",
       "      <th>2</th>\n",
       "      <td>3</td>\n",
       "      <td>9</td>\n",
       "      <td>3</td>\n",
       "      <td>1</td>\n",
       "      <td>0</td>\n",
       "      <td>0</td>\n",
       "      <td>0</td>\n",
       "      <td>0</td>\n",
       "      <td>0</td>\n",
       "      <td>0</td>\n",
       "      <td>0</td>\n",
       "      <td>0</td>\n",
       "      <td>0</td>\n",
       "      <td>0</td>\n",
       "      <td>0</td>\n",
       "      <td>0</td>\n",
       "      <td>2021</td>\n",
       "      <td>1</td>\n",
       "      <td>1</td>\n",
       "    </tr>\n",
       "    <tr>\n",
       "      <th>3</th>\n",
       "      <td>4</td>\n",
       "      <td>6</td>\n",
       "      <td>7</td>\n",
       "      <td>0</td>\n",
       "      <td>0</td>\n",
       "      <td>0</td>\n",
       "      <td>0</td>\n",
       "      <td>0</td>\n",
       "      <td>0</td>\n",
       "      <td>0</td>\n",
       "      <td>0</td>\n",
       "      <td>0</td>\n",
       "      <td>0</td>\n",
       "      <td>0</td>\n",
       "      <td>0</td>\n",
       "      <td>0</td>\n",
       "      <td>2021</td>\n",
       "      <td>1</td>\n",
       "      <td>1</td>\n",
       "    </tr>\n",
       "    <tr>\n",
       "      <th>4</th>\n",
       "      <td>5</td>\n",
       "      <td>4</td>\n",
       "      <td>6</td>\n",
       "      <td>0</td>\n",
       "      <td>0</td>\n",
       "      <td>0</td>\n",
       "      <td>0</td>\n",
       "      <td>0</td>\n",
       "      <td>0</td>\n",
       "      <td>1</td>\n",
       "      <td>0</td>\n",
       "      <td>0</td>\n",
       "      <td>0</td>\n",
       "      <td>1</td>\n",
       "      <td>0</td>\n",
       "      <td>0</td>\n",
       "      <td>2021</td>\n",
       "      <td>1</td>\n",
       "      <td>1</td>\n",
       "    </tr>\n",
       "  </tbody>\n",
       "</table>\n",
       "</div>"
      ],
      "text/plain": [
       "   id  campaign_var_1  campaign_var_2  user_activity_var_1  \\\n",
       "0   1               1               2                    0   \n",
       "1   2               2               1                    1   \n",
       "2   3               9               3                    1   \n",
       "3   4               6               7                    0   \n",
       "4   5               4               6                    0   \n",
       "\n",
       "   user_activity_var_2  user_activity_var_3  user_activity_var_4  \\\n",
       "0                    0                    0                    0   \n",
       "1                    0                    1                    0   \n",
       "2                    0                    0                    0   \n",
       "3                    0                    0                    0   \n",
       "4                    0                    0                    0   \n",
       "\n",
       "   user_activity_var_5  user_activity_var_6  user_activity_var_7  \\\n",
       "0                    0                    0                    1   \n",
       "1                    0                    0                    1   \n",
       "2                    0                    0                    0   \n",
       "3                    0                    0                    0   \n",
       "4                    0                    0                    1   \n",
       "\n",
       "   user_activity_var_8  user_activity_var_9  user_activity_var_10  \\\n",
       "0                    1                    0                     0   \n",
       "1                    0                    0                     0   \n",
       "2                    0                    0                     0   \n",
       "3                    0                    0                     0   \n",
       "4                    0                    0                     0   \n",
       "\n",
       "   user_activity_var_11  user_activity_var_12  buy  created_at_year  \\\n",
       "0                     0                     0    0             2021   \n",
       "1                     0                     0    0             2021   \n",
       "2                     0                     0    0             2021   \n",
       "3                     0                     0    0             2021   \n",
       "4                     1                     0    0             2021   \n",
       "\n",
       "   created_at_month  created_at_day  \n",
       "0                 1               1  \n",
       "1                 1               1  \n",
       "2                 1               1  \n",
       "3                 1               1  \n",
       "4                 1               1  "
      ]
     },
     "execution_count": 352,
     "metadata": {},
     "output_type": "execute_result"
    }
   ],
   "source": [
    "df = df.drop(columns=\"created_at\")\n",
    "df.head()"
   ]
  },
  {
   "cell_type": "code",
   "execution_count": 353,
   "id": "3f990290",
   "metadata": {
    "scrolled": true
   },
   "outputs": [
    {
     "name": "stdout",
     "output_type": "stream",
     "text": [
      "<class 'pandas.core.frame.DataFrame'>\n",
      "RangeIndex: 39161 entries, 0 to 39160\n",
      "Data columns (total 19 columns):\n",
      " #   Column                Non-Null Count  Dtype\n",
      "---  ------                --------------  -----\n",
      " 0   id                    39161 non-null  int64\n",
      " 1   campaign_var_1        39161 non-null  int64\n",
      " 2   campaign_var_2        39161 non-null  int64\n",
      " 3   user_activity_var_1   39161 non-null  int64\n",
      " 4   user_activity_var_2   39161 non-null  int64\n",
      " 5   user_activity_var_3   39161 non-null  int64\n",
      " 6   user_activity_var_4   39161 non-null  int64\n",
      " 7   user_activity_var_5   39161 non-null  int64\n",
      " 8   user_activity_var_6   39161 non-null  int64\n",
      " 9   user_activity_var_7   39161 non-null  int64\n",
      " 10  user_activity_var_8   39161 non-null  int64\n",
      " 11  user_activity_var_9   39161 non-null  int64\n",
      " 12  user_activity_var_10  39161 non-null  int64\n",
      " 13  user_activity_var_11  39161 non-null  int64\n",
      " 14  user_activity_var_12  39161 non-null  int64\n",
      " 15  buy                   39161 non-null  int64\n",
      " 16  created_at_year       39161 non-null  int64\n",
      " 17  created_at_month      39161 non-null  int64\n",
      " 18  created_at_day        39161 non-null  int64\n",
      "dtypes: int64(19)\n",
      "memory usage: 5.7 MB\n"
     ]
    }
   ],
   "source": [
    "df.info()"
   ]
  },
  {
   "cell_type": "markdown",
   "id": "fe983133",
   "metadata": {},
   "source": [
    "# Feature Importance"
   ]
  },
  {
   "cell_type": "code",
   "execution_count": 354,
   "id": "5d4b494e",
   "metadata": {},
   "outputs": [],
   "source": [
    "X=df.drop(columns=['buy'])\n",
    "Y=df['buy']\n",
    "x_train,x_test,y_train,y_test=train_test_split(X,Y,test_size=0.3)"
   ]
  },
  {
   "cell_type": "code",
   "execution_count": 355,
   "id": "f9cef731",
   "metadata": {},
   "outputs": [
    {
     "data": {
      "text/plain": [
       "array([0.1518654 , 0.06136683, 0.0549452 , 0.01835464, 0.09490648,\n",
       "       0.00828737, 0.11610492, 0.02095301, 0.0208426 , 0.01032757,\n",
       "       0.00671352, 0.17720751, 0.00481142, 0.10824485, 0.00292422,\n",
       "       0.        , 0.04735601, 0.09478844])"
      ]
     },
     "execution_count": 355,
     "metadata": {},
     "output_type": "execute_result"
    }
   ],
   "source": [
    "rf=RandomForestClassifier()\n",
    " \n",
    "rf.fit(x_train,y_train)\n",
    "rf.feature_importances_"
   ]
  },
  {
   "cell_type": "code",
   "execution_count": 356,
   "id": "e291677f",
   "metadata": {},
   "outputs": [
    {
     "data": {
      "text/plain": [
       "Text(0.5, 0, 'Random Forest Feature Importance')"
      ]
     },
     "execution_count": 356,
     "metadata": {},
     "output_type": "execute_result"
    },
    {
     "data": {
      "image/png": "[encoded data removed]",
      "text/plain": [
       "<Figure size 864x576 with 1 Axes>"
      ]
     },
     "metadata": {
      "needs_background": "light"
     },
     "output_type": "display_data"
    }
   ],
   "source": [
    "plt.figure(figsize=(12, 8))\n",
    "sorted_idx = rf.feature_importances_.argsort()\n",
    "plt.barh(df.columns[sorted_idx], rf.feature_importances_[sorted_idx])\n",
    "plt.xlabel(\"Random Forest Feature Importance\")"
   ]
  },
  {
   "cell_type": "markdown",
   "id": "03802f68",
   "metadata": {},
   "source": [
    "# Train Test Split"
   ]
  },
  {
   "cell_type": "code",
   "execution_count": 357,
   "id": "3f72acac",
   "metadata": {},
   "outputs": [
    {
     "data": {
      "text/plain": [
       "Index(['id', 'campaign_var_1', 'campaign_var_2', 'user_activity_var_1',\n",
       "       'user_activity_var_2', 'user_activity_var_3', 'user_activity_var_4',\n",
       "       'user_activity_var_5', 'user_activity_var_6', 'user_activity_var_7',\n",
       "       'user_activity_var_8', 'user_activity_var_9', 'user_activity_var_10',\n",
       "       'user_activity_var_11', 'user_activity_var_12', 'created_at_year',\n",
       "       'created_at_month', 'created_at_day'],\n",
       "      dtype='object')"
      ]
     },
     "execution_count": 357,
     "metadata": {},
     "output_type": "execute_result"
    }
   ],
   "source": [
    "x_train.columns"
   ]
  },
  {
   "cell_type": "code",
   "execution_count": 358,
   "id": "db2a6ed8",
   "metadata": {},
   "outputs": [
    {
     "data": {
      "text/plain": [
       "Index(['id', 'campaign_var_1', 'campaign_var_2', 'user_activity_var_1',\n",
       "       'user_activity_var_2', 'user_activity_var_3', 'user_activity_var_4',\n",
       "       'user_activity_var_5', 'user_activity_var_6', 'user_activity_var_7',\n",
       "       'user_activity_var_8', 'user_activity_var_9', 'user_activity_var_10',\n",
       "       'user_activity_var_11', 'user_activity_var_12', 'created_at_year',\n",
       "       'created_at_month', 'created_at_day'],\n",
       "      dtype='object')"
      ]
     },
     "execution_count": 358,
     "metadata": {},
     "output_type": "execute_result"
    }
   ],
   "source": [
    "x_train.columns"
   ]
  },
  {
   "cell_type": "markdown",
   "id": "dc397c86",
   "metadata": {},
   "source": [
    "# Standarization"
   ]
  },
  {
   "cell_type": "code",
   "execution_count": 359,
   "id": "fe5328bd",
   "metadata": {},
   "outputs": [
    {
     "data": {
      "text/plain": [
       "id                      1.130872e+04\n",
       "campaign_var_1          3.477507e+00\n",
       "campaign_var_2          2.613543e+00\n",
       "user_activity_var_1     5.082254e-01\n",
       "user_activity_var_2     8.187531e-02\n",
       "user_activity_var_3     3.051313e-01\n",
       "user_activity_var_4     1.060789e-01\n",
       "user_activity_var_5     3.600726e-01\n",
       "user_activity_var_6     5.575485e-01\n",
       "user_activity_var_7     4.568280e-01\n",
       "user_activity_var_8     3.788476e-01\n",
       "user_activity_var_9     1.069157e-01\n",
       "user_activity_var_10    1.909670e-02\n",
       "user_activity_var_11    4.296006e-01\n",
       "user_activity_var_12    2.561717e-02\n",
       "created_at_year         2.273778e-13\n",
       "created_at_month        3.141650e+00\n",
       "created_at_day          8.797547e+00\n",
       "dtype: float64"
      ]
     },
     "execution_count": 359,
     "metadata": {},
     "output_type": "execute_result"
    }
   ],
   "source": [
    "# Check for data standard\n",
    "x_train.std()"
   ]
  },
  {
   "cell_type": "code",
   "execution_count": 360,
   "id": "cc7fe7ef",
   "metadata": {},
   "outputs": [
    {
     "name": "stdout",
     "output_type": "stream",
     "text": [
      "0.97182531580755\n"
     ]
    }
   ],
   "source": [
    "#Applying StandardScaler\n",
    "scaler = StandardScaler()\n",
    "scaler.fit(x_train)\n",
    "x_train_std = scaler.transform(x_train)\n",
    "print(x_train_std.std())"
   ]
  },
  {
   "cell_type": "code",
   "execution_count": 361,
   "id": "07e21772",
   "metadata": {},
   "outputs": [],
   "source": [
    "x_train=x_train_std"
   ]
  },
  {
   "cell_type": "code",
   "execution_count": 362,
   "id": "2dc167be",
   "metadata": {},
   "outputs": [
    {
     "data": {
      "text/plain": [
       "id                      11296.510355\n",
       "campaign_var_1              3.462336\n",
       "campaign_var_2              2.615762\n",
       "user_activity_var_1         0.511396\n",
       "user_activity_var_2         0.081212\n",
       "user_activity_var_3         0.300478\n",
       "user_activity_var_4         0.107357\n",
       "user_activity_var_5         0.358779\n",
       "user_activity_var_6         0.559623\n",
       "user_activity_var_7         0.453318\n",
       "user_activity_var_8         0.381650\n",
       "user_activity_var_9         0.105007\n",
       "user_activity_var_10        0.020626\n",
       "user_activity_var_11        0.436058\n",
       "user_activity_var_12        0.018449\n",
       "created_at_year             0.000000\n",
       "created_at_month            3.134069\n",
       "created_at_day              8.758831\n",
       "dtype: float64"
      ]
     },
     "execution_count": 362,
     "metadata": {},
     "output_type": "execute_result"
    }
   ],
   "source": [
    "# Check for data standard\n",
    "x_test.std()"
   ]
  },
  {
   "cell_type": "code",
   "execution_count": 363,
   "id": "60af5fbb",
   "metadata": {},
   "outputs": [
    {
     "name": "stdout",
     "output_type": "stream",
     "text": [
      "0.9718253158075499\n"
     ]
    }
   ],
   "source": [
    "#scaler = StandardScaler()\n",
    "scaler.fit(x_test)\n",
    "x_test_std = scaler.transform(x_test)\n",
    "print(x_test_std.std())"
   ]
  },
  {
   "cell_type": "code",
   "execution_count": 365,
   "id": "7769c67b",
   "metadata": {},
   "outputs": [],
   "source": [
    "x_test=x_test_std"
   ]
  },
  {
   "cell_type": "code",
   "execution_count": 366,
   "id": "f53f4490",
   "metadata": {
    "scrolled": false
   },
   "outputs": [
    {
     "data": {
      "text/plain": [
       "<AxesSubplot:>"
      ]
     },
     "execution_count": 366,
     "metadata": {},
     "output_type": "execute_result"
    },
    {
     "data": {
      "image/png": "[encoded data removed]",
      "text/plain": [
       "<Figure size 936x432 with 1 Axes>"
      ]
     },
     "metadata": {
      "needs_background": "light"
     },
     "output_type": "display_data"
    }
   ],
   "source": [
    "plt.figure(figsize=(13, 6))\n",
    "sns.boxplot(data=x_train) "
   ]
  },
  {
   "cell_type": "markdown",
   "id": "23e8285f",
   "metadata": {},
   "source": [
    "# ANN Model"
   ]
  },
  {
   "cell_type": "code",
   "execution_count": 323,
   "id": "df19e418",
   "metadata": {},
   "outputs": [],
   "source": [
    "from keras import Sequential\n",
    "from keras.layers import Dense"
   ]
  },
  {
   "cell_type": "code",
   "execution_count": 387,
   "id": "1a5cdbe4",
   "metadata": {},
   "outputs": [],
   "source": [
    "model = Sequential()\n",
    "\n",
    "model.add(Dense(20, input_dim=18, activation='relu'))\n",
    "model.add(Dense(22, activation='relu'))\n",
    "#model.add(Dense(20, activation='relu'))\n",
    "model.add(Dense(24, activation='relu'))\n",
    "model.add(Dense(22, activation='relu'))\n",
    "model.add(Dense(20, activation='relu'))\n",
    "model.add(Dense(18, activation='relu'))\n",
    "model.add(Dense(15, activation='relu'))\n",
    "model.add(Dense(12, activation='relu'))\n",
    "model.add(Dense(10, activation='relu'))\n",
    "model.add(Dense(8, activation='relu'))\n",
    "model.add(Dense(6, activation='relu'))\n",
    "model.add(Dense(3, activation='relu'))\n",
    "model.add(Dense(1, activation='sigmoid'))\n",
    "\n",
    "# compile the keras model\n",
    "model.compile(loss='binary_crossentropy', optimizer='adam', metrics=['accuracy'])\n",
    "epoch = 100"
   ]
  },
  {
   "cell_type": "code",
   "execution_count": 388,
   "id": "1a6e8c9c",
   "metadata": {
    "scrolled": true
   },
   "outputs": [
    {
     "name": "stdout",
     "output_type": "stream",
     "text": [
      "Epoch 1/100\n",
      "840/840 [==============================] - 1s 1ms/step - loss: 0.1500 - accuracy: 0.9580 - val_loss: 0.0875 - val_accuracy: 0.9800\n",
      "Epoch 2/100\n",
      "840/840 [==============================] - 1s 1ms/step - loss: 0.1007 - accuracy: 0.9741 - val_loss: 0.1028 - val_accuracy: 0.9672\n",
      "Epoch 3/100\n",
      "840/840 [==============================] - 1s 985us/step - loss: 0.0980 - accuracy: 0.9741 - val_loss: 0.0826 - val_accuracy: 0.9781\n",
      "Epoch 4/100\n",
      "840/840 [==============================] - 1s 981us/step - loss: 0.0961 - accuracy: 0.9743 - val_loss: 0.0819 - val_accuracy: 0.9818\n",
      "Epoch 5/100\n",
      "840/840 [==============================] - 1s 1ms/step - loss: 0.0939 - accuracy: 0.9751 - val_loss: 0.0823 - val_accuracy: 0.9800\n",
      "Epoch 6/100\n",
      "840/840 [==============================] - 1s 1ms/step - loss: 0.0933 - accuracy: 0.9751 - val_loss: 0.0824 - val_accuracy: 0.9781\n",
      "Epoch 7/100\n",
      "840/840 [==============================] - 1s 1ms/step - loss: 0.0926 - accuracy: 0.9747 - val_loss: 0.0812 - val_accuracy: 0.9818\n",
      "Epoch 8/100\n",
      "840/840 [==============================] - 1s 1ms/step - loss: 0.0920 - accuracy: 0.9749 - val_loss: 0.0813 - val_accuracy: 0.9818\n",
      "Epoch 9/100\n",
      "840/840 [==============================] - 1s 1ms/step - loss: 0.0913 - accuracy: 0.9752 - val_loss: 0.0788 - val_accuracy: 0.9800\n",
      "Epoch 10/100\n",
      "840/840 [==============================] - 1s 1ms/step - loss: 0.0911 - accuracy: 0.9752 - val_loss: 0.0779 - val_accuracy: 0.9818\n",
      "Epoch 11/100\n",
      "840/840 [==============================] - 1s 997us/step - loss: 0.0906 - accuracy: 0.9752 - val_loss: 0.0799 - val_accuracy: 0.9818\n",
      "Epoch 12/100\n",
      "840/840 [==============================] - 1s 1ms/step - loss: 0.0904 - accuracy: 0.9753 - val_loss: 0.0812 - val_accuracy: 0.9800\n",
      "Epoch 13/100\n",
      "840/840 [==============================] - 1s 1ms/step - loss: 0.0897 - accuracy: 0.9755 - val_loss: 0.0845 - val_accuracy: 0.9818\n",
      "Epoch 14/100\n",
      "840/840 [==============================] - 1s 998us/step - loss: 0.0893 - accuracy: 0.9753 - val_loss: 0.0819 - val_accuracy: 0.9818\n",
      "Epoch 15/100\n",
      "840/840 [==============================] - 1s 1ms/step - loss: 0.0893 - accuracy: 0.9752 - val_loss: 0.0803 - val_accuracy: 0.9800\n",
      "Epoch 16/100\n",
      "840/840 [==============================] - 1s 1ms/step - loss: 0.0891 - accuracy: 0.9754 - val_loss: 0.0808 - val_accuracy: 0.9818\n",
      "Epoch 17/100\n",
      "840/840 [==============================] - 1s 1ms/step - loss: 0.0885 - accuracy: 0.9758 - val_loss: 0.0823 - val_accuracy: 0.9800\n",
      "Epoch 18/100\n",
      "840/840 [==============================] - 1s 1ms/step - loss: 0.0885 - accuracy: 0.9754 - val_loss: 0.0793 - val_accuracy: 0.9800\n",
      "Epoch 19/100\n",
      "840/840 [==============================] - 1s 1ms/step - loss: 0.0879 - accuracy: 0.9759 - val_loss: 0.0800 - val_accuracy: 0.9818\n",
      "Epoch 20/100\n",
      "840/840 [==============================] - 1s 1ms/step - loss: 0.0873 - accuracy: 0.9755 - val_loss: 0.0797 - val_accuracy: 0.9836\n",
      "Epoch 21/100\n",
      "840/840 [==============================] - 1s 1ms/step - loss: 0.0875 - accuracy: 0.9755 - val_loss: 0.0814 - val_accuracy: 0.9818\n",
      "Epoch 22/100\n",
      "840/840 [==============================] - 1s 1ms/step - loss: 0.0869 - accuracy: 0.9758 - val_loss: 0.0815 - val_accuracy: 0.9818\n",
      "Epoch 23/100\n",
      "840/840 [==============================] - 1s 1ms/step - loss: 0.0867 - accuracy: 0.9758 - val_loss: 0.0833 - val_accuracy: 0.9800\n",
      "Epoch 24/100\n",
      "840/840 [==============================] - 1s 1ms/step - loss: 0.0867 - accuracy: 0.9757 - val_loss: 0.0842 - val_accuracy: 0.9800\n",
      "Epoch 25/100\n",
      "840/840 [==============================] - 1s 1ms/step - loss: 0.0860 - accuracy: 0.9758 - val_loss: 0.0845 - val_accuracy: 0.9800\n",
      "Epoch 26/100\n",
      "840/840 [==============================] - 1s 1ms/step - loss: 0.0860 - accuracy: 0.9760 - val_loss: 0.0839 - val_accuracy: 0.9800\n",
      "Epoch 27/100\n",
      "840/840 [==============================] - 1s 994us/step - loss: 0.0855 - accuracy: 0.9760 - val_loss: 0.0831 - val_accuracy: 0.9818\n",
      "Epoch 28/100\n",
      "840/840 [==============================] - 1s 1ms/step - loss: 0.0852 - accuracy: 0.9758 - val_loss: 0.0811 - val_accuracy: 0.9800\n",
      "Epoch 29/100\n",
      "840/840 [==============================] - 1s 1ms/step - loss: 0.0850 - accuracy: 0.9762 - val_loss: 0.0845 - val_accuracy: 0.9818\n",
      "Epoch 30/100\n",
      "840/840 [==============================] - 1s 1ms/step - loss: 0.0845 - accuracy: 0.9762 - val_loss: 0.0845 - val_accuracy: 0.9818\n",
      "Epoch 31/100\n",
      "840/840 [==============================] - 1s 1ms/step - loss: 0.0843 - accuracy: 0.9761 - val_loss: 0.0846 - val_accuracy: 0.9836\n",
      "Epoch 32/100\n",
      "840/840 [==============================] - 1s 1ms/step - loss: 0.0847 - accuracy: 0.9759 - val_loss: 0.0854 - val_accuracy: 0.9800\n",
      "Epoch 33/100\n",
      "840/840 [==============================] - 1s 1ms/step - loss: 0.0833 - accuracy: 0.9763 - val_loss: 0.0876 - val_accuracy: 0.9781\n",
      "Epoch 34/100\n",
      "840/840 [==============================] - 1s 987us/step - loss: 0.0834 - accuracy: 0.9762 - val_loss: 0.0793 - val_accuracy: 0.9818\n",
      "Epoch 35/100\n",
      "840/840 [==============================] - 1s 1ms/step - loss: 0.0840 - accuracy: 0.9762 - val_loss: 0.0866 - val_accuracy: 0.9818\n",
      "Epoch 36/100\n",
      "840/840 [==============================] - 1s 1ms/step - loss: 0.0828 - accuracy: 0.9765 - val_loss: 0.0831 - val_accuracy: 0.9800\n",
      "Epoch 37/100\n",
      "840/840 [==============================] - 1s 1ms/step - loss: 0.0826 - accuracy: 0.9764 - val_loss: 0.0829 - val_accuracy: 0.9818\n",
      "Epoch 38/100\n",
      "840/840 [==============================] - 1s 1ms/step - loss: 0.0824 - accuracy: 0.9759 - val_loss: 0.0846 - val_accuracy: 0.9818\n",
      "Epoch 39/100\n",
      "840/840 [==============================] - 1s 1ms/step - loss: 0.0822 - accuracy: 0.9764 - val_loss: 0.0851 - val_accuracy: 0.9800\n",
      "Epoch 40/100\n",
      "840/840 [==============================] - 1s 1ms/step - loss: 0.0829 - accuracy: 0.9761 - val_loss: 0.0831 - val_accuracy: 0.9818\n",
      "Epoch 41/100\n",
      "840/840 [==============================] - 1s 1ms/step - loss: 0.0816 - accuracy: 0.9766 - val_loss: 0.0822 - val_accuracy: 0.9836\n",
      "Epoch 42/100\n",
      "840/840 [==============================] - 1s 983us/step - loss: 0.0816 - accuracy: 0.9767 - val_loss: 0.0897 - val_accuracy: 0.9800\n",
      "Epoch 43/100\n",
      "840/840 [==============================] - 1s 1ms/step - loss: 0.0823 - accuracy: 0.9763 - val_loss: 0.0835 - val_accuracy: 0.9781\n",
      "Epoch 44/100\n",
      "840/840 [==============================] - 1s 1ms/step - loss: 0.0803 - accuracy: 0.9769 - val_loss: 0.0804 - val_accuracy: 0.9781\n",
      "Epoch 45/100\n",
      "840/840 [==============================] - 1s 1ms/step - loss: 0.0812 - accuracy: 0.9762 - val_loss: 0.0848 - val_accuracy: 0.9800\n",
      "Epoch 46/100\n",
      "840/840 [==============================] - 1s 1ms/step - loss: 0.0806 - accuracy: 0.9768 - val_loss: 0.0781 - val_accuracy: 0.9800\n",
      "Epoch 47/100\n",
      "840/840 [==============================] - 1s 1ms/step - loss: 0.0804 - accuracy: 0.9764 - val_loss: 0.0800 - val_accuracy: 0.9818\n",
      "Epoch 48/100\n",
      "840/840 [==============================] - 1s 1ms/step - loss: 0.0807 - accuracy: 0.9763 - val_loss: 0.0809 - val_accuracy: 0.9781\n",
      "Epoch 49/100\n",
      "840/840 [==============================] - 1s 1ms/step - loss: 0.0796 - accuracy: 0.9773 - val_loss: 0.0829 - val_accuracy: 0.9800\n",
      "Epoch 50/100\n",
      "840/840 [==============================] - 1s 986us/step - loss: 0.0800 - accuracy: 0.9767 - val_loss: 0.0825 - val_accuracy: 0.9818\n",
      "Epoch 51/100\n",
      "840/840 [==============================] - 1s 984us/step - loss: 0.0797 - accuracy: 0.9765 - val_loss: 0.0851 - val_accuracy: 0.9818\n",
      "Epoch 52/100\n",
      "840/840 [==============================] - 1s 988us/step - loss: 0.0792 - accuracy: 0.9765 - val_loss: 0.0810 - val_accuracy: 0.9818\n",
      "Epoch 53/100\n",
      "840/840 [==============================] - 1s 995us/step - loss: 0.0797 - accuracy: 0.9765 - val_loss: 0.0811 - val_accuracy: 0.9800\n",
      "Epoch 54/100\n",
      "840/840 [==============================] - 1s 996us/step - loss: 0.0798 - accuracy: 0.9762 - val_loss: 0.0844 - val_accuracy: 0.9781\n",
      "Epoch 55/100\n",
      "840/840 [==============================] - 1s 995us/step - loss: 0.0782 - accuracy: 0.9770 - val_loss: 0.0812 - val_accuracy: 0.9800\n",
      "Epoch 56/100\n",
      "840/840 [==============================] - 1s 1ms/step - loss: 0.0780 - accuracy: 0.9765 - val_loss: 0.0860 - val_accuracy: 0.9836\n",
      "Epoch 57/100\n",
      "840/840 [==============================] - 1s 1ms/step - loss: 0.0788 - accuracy: 0.9765 - val_loss: 0.0771 - val_accuracy: 0.9836\n"
     ]
    },
    {
     "name": "stdout",
     "output_type": "stream",
     "text": [
      "Epoch 58/100\n",
      "840/840 [==============================] - 1s 990us/step - loss: 0.0775 - accuracy: 0.9768 - val_loss: 0.0776 - val_accuracy: 0.9800\n",
      "Epoch 59/100\n",
      "840/840 [==============================] - 1s 1ms/step - loss: 0.0774 - accuracy: 0.9770 - val_loss: 0.0910 - val_accuracy: 0.9800\n",
      "Epoch 60/100\n",
      "840/840 [==============================] - 1s 973us/step - loss: 0.0770 - accuracy: 0.9768 - val_loss: 0.0797 - val_accuracy: 0.9800\n",
      "Epoch 61/100\n",
      "840/840 [==============================] - 1s 992us/step - loss: 0.0767 - accuracy: 0.9771 - val_loss: 0.0825 - val_accuracy: 0.9818\n",
      "Epoch 62/100\n",
      "840/840 [==============================] - 1s 992us/step - loss: 0.0769 - accuracy: 0.9768 - val_loss: 0.0855 - val_accuracy: 0.9800\n",
      "Epoch 63/100\n",
      "840/840 [==============================] - 1s 992us/step - loss: 0.0761 - accuracy: 0.9773 - val_loss: 0.0872 - val_accuracy: 0.9818\n",
      "Epoch 64/100\n",
      "840/840 [==============================] - 1s 992us/step - loss: 0.0757 - accuracy: 0.9768 - val_loss: 0.0801 - val_accuracy: 0.9818\n",
      "Epoch 65/100\n",
      "840/840 [==============================] - 1s 999us/step - loss: 0.0759 - accuracy: 0.9770 - val_loss: 0.0926 - val_accuracy: 0.9781\n",
      "Epoch 66/100\n",
      "840/840 [==============================] - 1s 995us/step - loss: 0.0744 - accuracy: 0.9778 - val_loss: 0.0926 - val_accuracy: 0.9781\n",
      "Epoch 67/100\n",
      "840/840 [==============================] - 1s 996us/step - loss: 0.0750 - accuracy: 0.9774 - val_loss: 0.0850 - val_accuracy: 0.9800\n",
      "Epoch 68/100\n",
      "840/840 [==============================] - 1s 984us/step - loss: 0.0752 - accuracy: 0.9768 - val_loss: 0.0815 - val_accuracy: 0.9763\n",
      "Epoch 69/100\n",
      "840/840 [==============================] - 1s 998us/step - loss: 0.0747 - accuracy: 0.9771 - val_loss: 0.0908 - val_accuracy: 0.9800\n",
      "Epoch 70/100\n",
      "840/840 [==============================] - 1s 991us/step - loss: 0.0740 - accuracy: 0.9770 - val_loss: 0.0956 - val_accuracy: 0.9781\n",
      "Epoch 71/100\n",
      "840/840 [==============================] - 1s 999us/step - loss: 0.0743 - accuracy: 0.9774 - val_loss: 0.0807 - val_accuracy: 0.9781\n",
      "Epoch 72/100\n",
      "840/840 [==============================] - 1s 992us/step - loss: 0.0739 - accuracy: 0.9775 - val_loss: 0.0850 - val_accuracy: 0.9800\n",
      "Epoch 73/100\n",
      "840/840 [==============================] - 1s 993us/step - loss: 0.0737 - accuracy: 0.9771 - val_loss: 0.0927 - val_accuracy: 0.9800\n",
      "Epoch 74/100\n",
      "840/840 [==============================] - 1s 995us/step - loss: 0.0743 - accuracy: 0.9771 - val_loss: 0.0939 - val_accuracy: 0.9763\n",
      "Epoch 75/100\n",
      "840/840 [==============================] - 1s 998us/step - loss: 0.0736 - accuracy: 0.9773 - val_loss: 0.0842 - val_accuracy: 0.9800\n",
      "Epoch 76/100\n",
      "840/840 [==============================] - 1s 994us/step - loss: 0.0733 - accuracy: 0.9774 - val_loss: 0.0942 - val_accuracy: 0.9745\n",
      "Epoch 77/100\n",
      "840/840 [==============================] - 1s 992us/step - loss: 0.0723 - accuracy: 0.9775 - val_loss: 0.0950 - val_accuracy: 0.9818\n",
      "Epoch 78/100\n",
      "840/840 [==============================] - 1s 1ms/step - loss: 0.0731 - accuracy: 0.9778 - val_loss: 0.0989 - val_accuracy: 0.9800\n",
      "Epoch 79/100\n",
      "840/840 [==============================] - 1s 1ms/step - loss: 0.0720 - accuracy: 0.9774 - val_loss: 0.0915 - val_accuracy: 0.9781\n",
      "Epoch 80/100\n",
      "840/840 [==============================] - 1s 998us/step - loss: 0.0715 - accuracy: 0.9776 - val_loss: 0.0973 - val_accuracy: 0.9818\n",
      "Epoch 81/100\n",
      "840/840 [==============================] - 1s 1ms/step - loss: 0.0724 - accuracy: 0.9775 - val_loss: 0.0997 - val_accuracy: 0.9781\n",
      "Epoch 82/100\n",
      "840/840 [==============================] - 1s 990us/step - loss: 0.0708 - accuracy: 0.9776 - val_loss: 0.0991 - val_accuracy: 0.9781\n",
      "Epoch 83/100\n",
      "840/840 [==============================] - 1s 1ms/step - loss: 0.0716 - accuracy: 0.9775 - val_loss: 0.0913 - val_accuracy: 0.9818\n",
      "Epoch 84/100\n",
      "840/840 [==============================] - 1s 1ms/step - loss: 0.0698 - accuracy: 0.9779 - val_loss: 0.0912 - val_accuracy: 0.9745\n",
      "Epoch 85/100\n",
      "840/840 [==============================] - 1s 1ms/step - loss: 0.0718 - accuracy: 0.9772 - val_loss: 0.0919 - val_accuracy: 0.9781\n",
      "Epoch 86/100\n",
      "840/840 [==============================] - 1s 1ms/step - loss: 0.0712 - accuracy: 0.9774 - val_loss: 0.0968 - val_accuracy: 0.9781\n",
      "Epoch 87/100\n",
      "840/840 [==============================] - 1s 1ms/step - loss: 0.0707 - accuracy: 0.9778 - val_loss: 0.0969 - val_accuracy: 0.9800\n",
      "Epoch 88/100\n",
      "840/840 [==============================] - 1s 1ms/step - loss: 0.0704 - accuracy: 0.9777 - val_loss: 0.0979 - val_accuracy: 0.9800\n",
      "Epoch 89/100\n",
      "840/840 [==============================] - 1s 1ms/step - loss: 0.0697 - accuracy: 0.9779 - val_loss: 0.0982 - val_accuracy: 0.9800\n",
      "Epoch 90/100\n",
      "840/840 [==============================] - 1s 1ms/step - loss: 0.0699 - accuracy: 0.9780 - val_loss: 0.0898 - val_accuracy: 0.9781\n",
      "Epoch 91/100\n",
      "840/840 [==============================] - 1s 1ms/step - loss: 0.0705 - accuracy: 0.9772 - val_loss: 0.0969 - val_accuracy: 0.9745\n",
      "Epoch 92/100\n",
      "840/840 [==============================] - 1s 1ms/step - loss: 0.0686 - accuracy: 0.9785 - val_loss: 0.1029 - val_accuracy: 0.9763\n",
      "Epoch 93/100\n",
      "840/840 [==============================] - 1s 1ms/step - loss: 0.0697 - accuracy: 0.9781 - val_loss: 0.0932 - val_accuracy: 0.9745\n",
      "Epoch 94/100\n",
      "840/840 [==============================] - 1s 1ms/step - loss: 0.0697 - accuracy: 0.9777 - val_loss: 0.0907 - val_accuracy: 0.9781\n",
      "Epoch 95/100\n",
      "840/840 [==============================] - 1s 1ms/step - loss: 0.0701 - accuracy: 0.9775 - val_loss: 0.0944 - val_accuracy: 0.9745\n",
      "Epoch 96/100\n",
      "840/840 [==============================] - 1s 1ms/step - loss: 0.0693 - accuracy: 0.9779 - val_loss: 0.0980 - val_accuracy: 0.9836\n",
      "Epoch 97/100\n",
      "840/840 [==============================] - 1s 1ms/step - loss: 0.0678 - accuracy: 0.9778 - val_loss: 0.0963 - val_accuracy: 0.9763\n",
      "Epoch 98/100\n",
      "840/840 [==============================] - 1s 1ms/step - loss: 0.0676 - accuracy: 0.9782 - val_loss: 0.1021 - val_accuracy: 0.9800\n",
      "Epoch 99/100\n",
      "840/840 [==============================] - 1s 1ms/step - loss: 0.0679 - accuracy: 0.9783 - val_loss: 0.0978 - val_accuracy: 0.9745\n",
      "Epoch 100/100\n",
      "840/840 [==============================] - 1s 1ms/step - loss: 0.0684 - accuracy: 0.9776 - val_loss: 0.0997 - val_accuracy: 0.9763\n"
     ]
    }
   ],
   "source": [
    "# fit the keras model on the dataset\n",
    "history = model.fit(x_train, y_train, validation_split=0.02,  epochs=epoch, batch_size=32)"
   ]
  },
  {
   "cell_type": "code",
   "execution_count": 389,
   "id": "6f304b14",
   "metadata": {},
   "outputs": [
    {
     "data": {
      "image/png": "[encoded data removed]",
      "text/plain": [
       "<Figure size 1440x504 with 2 Axes>"
      ]
     },
     "metadata": {
      "needs_background": "light"
     },
     "output_type": "display_data"
    }
   ],
   "source": [
    "acc = history.history['accuracy']\n",
    "val_acc = history.history['val_accuracy']\n",
    "\n",
    "loss = history.history['loss']\n",
    "val_loss = history.history['val_loss']\n",
    "\n",
    "epochs_range = range(epoch)\n",
    "\n",
    "plt.figure(figsize=(20, 7))\n",
    "plt.subplot(1, 2, 1)\n",
    "plt.plot(epochs_range, acc, label='Training Accuracy')\n",
    "plt.plot(epochs_range, val_acc, label='Validation Accuracy')\n",
    "plt.legend(loc='lower right')\n",
    "plt.title('Training and Validation Accuracy')\n",
    "\n",
    "plt.subplot(1, 2, 2)\n",
    "plt.plot(epochs_range, loss, label='Training Loss')\n",
    "plt.plot(epochs_range, val_loss, label='Validation Loss')\n",
    "plt.legend(loc='upper right')\n",
    "plt.title('Training and Validation Loss')\n",
    "plt.show()\n",
    "#plt.savefig(\"Accuracy.png\")"
   ]
  },
  {
   "cell_type": "code",
   "execution_count": null,
   "id": "0d3fe549",
   "metadata": {},
   "outputs": [],
   "source": []
  },
  {
   "cell_type": "code",
   "execution_count": null,
   "id": "34f16d66",
   "metadata": {},
   "outputs": [],
   "source": []
  },
  {
   "cell_type": "code",
   "execution_count": null,
   "id": "387fed8c",
   "metadata": {},
   "outputs": [],
   "source": []
  },
  {
   "cell_type": "code",
   "execution_count": null,
   "id": "645cbcfd",
   "metadata": {},
   "outputs": [],
   "source": []
  }
 ],
 "metadata": {
  "kernelspec": {
   "display_name": "Python 3 (ipykernel)",
   "language": "python",
   "name": "python3"
  },
  "language_info": {
   "codemirror_mode": {
    "name": "ipython",
    "version": 3
   },
   "file_extension": ".py",
   "mimetype": "text/x-python",
   "name": "python",
   "nbconvert_exporter": "python",
   "pygments_lexer": "ipython3",
   "version": "3.9.7"
  }
 },
 "nbformat": 4,
 "nbformat_minor": 5
}
